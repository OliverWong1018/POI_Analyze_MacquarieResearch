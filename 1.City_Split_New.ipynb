{
 "cells": [
  {
   "cell_type": "code",
   "execution_count": 65,
   "metadata": {},
   "outputs": [],
   "source": [
    "#提取city数据，Washington，Phoenix，Calgary，Toronto，Singapore"
   ]
  },
  {
   "cell_type": "code",
   "execution_count": 66,
   "metadata": {},
   "outputs": [],
   "source": [
    "import pandas as pd\n",
    "import requests\n",
    "import json\n",
    "import numpy as np\n",
    "from tqdm import trange\n",
    "import time"
   ]
  },
  {
   "cell_type": "code",
   "execution_count": 67,
   "metadata": {},
   "outputs": [],
   "source": [
    "Retrive_city = 'New York'\n",
    "data_poi = pd.read_table('dataset_TIST2015_POIs.txt',sep='\\t',header=None) \n",
    "data_poi_us = data_poi[data_poi[4]=='US']\n",
    "data_poi_sg =  data_poi[data_poi[4]=='SG']\n",
    "data_poi_can =  data_poi[data_poi[4]=='CA']"
   ]
  },
  {
   "cell_type": "code",
   "execution_count": 68,
   "metadata": {},
   "outputs": [
    {
     "name": "stdout",
     "output_type": "stream",
     "text": [
      "(501900, 5)\n",
      "(33892, 5)\n",
      "(35996, 5)\n"
     ]
    }
   ],
   "source": [
    "print(data_poi_us.shape)\n",
    "print(data_poi_sg.shape)\n",
    "print(data_poi_can.shape)\n",
    "#print(data_poi_can)"
   ]
  },
  {
   "cell_type": "code",
   "execution_count": 69,
   "metadata": {},
   "outputs": [],
   "source": [
    "newyork_poi_table = pd.DataFrame(columns=('VenueId','Longitude','Dimension','Category','City','CountryCode'))\n",
    "phoenix_poi_table = pd.DataFrame(columns=('VenueId','Longitude','Dimension','Category','City','CountryCode'))\n",
    "calgary_poi_table = pd.DataFrame(columns=('VenueId','Longitude','Dimension','Category','City','CountryCode'))\n",
    "singapore_poi_table = pd.DataFrame(columns=('VenueId','Longitude','Dimension','Category','City','CountryCode'))"
   ]
  },
  {
   "cell_type": "code",
   "execution_count": 70,
   "metadata": {},
   "outputs": [],
   "source": [
    "#Retrive NewYork\n",
    "Retrive_city = 'New York'\n",
    "Retrive_city2 = 'Phoenix'\n",
    "for index, row in data_poi_us.iterrows(): \n",
    "    #print (index)\n",
    "    #纬度\n",
    "    latitude = row[1]\n",
    "    #print(latitude)\n",
    "    #经度\n",
    "    longtitude = row[2]\n",
    "    #print(latitude,longtitude)\n",
    "    if latitude<= 40.947446 and latitude>=40.484021 and longtitude>=-74.302694 and longtitude<= -73.691461:\n",
    "        newyork_poi_table = newyork_poi_table.append([{'VenueId':row[0],'Longitude':row[1],'Dimension':row[2],'Category':row[3],'City':Retrive_city,'CountryCode':row[4]}], ignore_index=True)                                          \n",
    "        #print(newyork_poi_table)\n",
    "    if latitude<= 33.913506 and latitude>=33.173755 and longtitude>=-112.409588 and longtitude<=-111.859993:\n",
    "        phoenix_poi_table = phoenix_poi_table.append([{'VenueId':row[0],'Longitude':row[1],'Dimension':row[2],'Category':row[3],'City':Retrive_city2,'CountryCode':row[4]}], ignore_index=True)                                          \n",
    "        #print(phoenix_poi_table)\n",
    "          "
   ]
  },
  {
   "cell_type": "code",
   "execution_count": null,
   "metadata": {},
   "outputs": [],
   "source": [
    "newyork_poi_table = newyork_poi_table.drop_duplicates()\n",
    "phoenix_poi_table = phoenix_poi_table.drop_duplicates()"
   ]
  },
  {
   "cell_type": "code",
   "execution_count": 71,
   "metadata": {},
   "outputs": [],
   "source": [
    "newyork_poi_table.to_csv(\"%s.csv\"%(Retrive_city),index=False,sep=',')\n",
    "phoenix_poi_table.to_csv(\"%s.csv\"%(Retrive_city2),index=False,sep=',')"
   ]
  },
  {
   "cell_type": "code",
   "execution_count": 72,
   "metadata": {},
   "outputs": [
    {
     "name": "stdout",
     "output_type": "stream",
     "text": [
      "New York and Phoenix Successful！\n"
     ]
    }
   ],
   "source": [
    "print('New York and Phoenix Successful！')"
   ]
  },
  {
   "cell_type": "code",
   "execution_count": 73,
   "metadata": {},
   "outputs": [],
   "source": [
    "#Retrive Singapore\n",
    "Retrive_city = 'Singapore'\n",
    "for index, row in data_poi_sg.iterrows(): \n",
    "    #print(index)\n",
    "    #纬度\n",
    "    latitude = row[1]\n",
    "    #print(latitude)\n",
    "    #经度\n",
    "    longtitude = row[2]\n",
    "    #print(latitude,longtitude)\n",
    "    if latitude<= 1.47233 and latitude>=1.247313 and longtitude>=103.598965 and longtitude<=104.034906:\n",
    "        singapore_poi_table = singapore_poi_table.append([{'VenueId':row[0],'Longitude':row[1],'Dimension':row[2],'Category':row[3],'City':Retrive_city,'CountryCode':row[4]}], ignore_index=True)                                          \n",
    "        #print(singapore_poi_table)"
   ]
  },
  {
   "cell_type": "code",
   "execution_count": null,
   "metadata": {},
   "outputs": [],
   "source": [
    "singapore_poi_table = singapore_poi_table.drop_duplicates()"
   ]
  },
  {
   "cell_type": "code",
   "execution_count": 74,
   "metadata": {},
   "outputs": [],
   "source": [
    "singapore_poi_table.to_csv(\"%s.csv\"%(Retrive_city),index=False,sep=',')"
   ]
  },
  {
   "cell_type": "code",
   "execution_count": 75,
   "metadata": {},
   "outputs": [
    {
     "name": "stdout",
     "output_type": "stream",
     "text": [
      "Sigapore Successful！\n"
     ]
    }
   ],
   "source": [
    "print('Sigapore Successful！')"
   ]
  },
  {
   "cell_type": "code",
   "execution_count": 76,
   "metadata": {},
   "outputs": [],
   "source": [
    "#Retrive Calgary\n",
    "Retrive_city = 'Calgary'\n",
    "for index, row in data_poi_can.iterrows(): \n",
    "    #print(index)\n",
    "    #纬度\n",
    "    latitude = row[1]\n",
    "    #print(latitude)\n",
    "    #经度\n",
    "    longtitude = row[2]\n",
    "    #print(latitude,longtitude)\n",
    "    if latitude<= 51.219320 and latitude>=50.835829 and longtitude>=-114.317180 and longtitude<=-113.810436:\n",
    "        calgary_poi_table = calgary_poi_table.append([{'VenueId':row[0],'Longitude':row[1],'Dimension':row[2],'Category':row[3],'City':Retrive_city,'CountryCode':row[4]}], ignore_index=True)                                          \n",
    "        #print(calgary_poi_table)"
   ]
  },
  {
   "cell_type": "code",
   "execution_count": null,
   "metadata": {},
   "outputs": [],
   "source": [
    "calgary_poi_table = calgary_poi_table.drop_duplicates()"
   ]
  },
  {
   "cell_type": "code",
   "execution_count": 77,
   "metadata": {},
   "outputs": [
    {
     "name": "stdout",
     "output_type": "stream",
     "text": [
      "Calgary Successful！\n"
     ]
    }
   ],
   "source": [
    "calgary_poi_table.to_csv(\"%s.csv\"%(Retrive_city),index=False,sep=',')\n",
    "print('Calgary Successful！')"
   ]
  },
  {
   "cell_type": "code",
   "execution_count": null,
   "metadata": {},
   "outputs": [],
   "source": []
  }
 ],
 "metadata": {
  "kernelspec": {
   "display_name": "Python 3",
   "language": "python",
   "name": "python3"
  },
  "language_info": {
   "codemirror_mode": {
    "name": "ipython",
    "version": 3
   },
   "file_extension": ".py",
   "mimetype": "text/x-python",
   "name": "python",
   "nbconvert_exporter": "python",
   "pygments_lexer": "ipython3",
   "version": "3.7.6"
  }
 },
 "nbformat": 4,
 "nbformat_minor": 4
}
