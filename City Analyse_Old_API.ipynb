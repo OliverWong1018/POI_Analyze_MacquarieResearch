{
 "cells": [
  {
   "cell_type": "code",
   "execution_count": 1,
   "metadata": {},
   "outputs": [],
   "source": [
    "#提取city数据，Washington，Phoenix，Calgary，Toronto，Singapore"
   ]
  },
  {
   "cell_type": "code",
   "execution_count": 2,
   "metadata": {},
   "outputs": [],
   "source": [
    "import pandas as pd\n",
    "import requests\n",
    "import json\n",
    "import numpy as np"
   ]
  },
  {
   "cell_type": "code",
   "execution_count": 3,
   "metadata": {},
   "outputs": [],
   "source": [
    "Retrive_city = 'New York'\n",
    "data_poi = pd.read_table('dataset_TIST2015_POIs.txt',sep='\\t',header=None) \n",
    "data_poi\n",
    "city_checkin_table = pd.DataFrame(columns=('UserId','VenueId','Time','Longitude','Dimension','Category','City','CountryCode'))"
   ]
  },
  {
   "cell_type": "code",
   "execution_count": null,
   "metadata": {},
   "outputs": [
    {
     "name": "stdout",
     "output_type": "stream",
     "text": [
      "             0                         1                               2    3\n",
      "0        50756  4f5e3a72e4b053fd6a4313f6  Tue Apr 03 18:00:06 +0000 2012  240\n",
      "1       190571  4b4b87b5f964a5204a9f26e3  Tue Apr 03 18:00:07 +0000 2012  180\n",
      "2       221021  4a85b1b3f964a520eefe1fe3  Tue Apr 03 18:00:08 +0000 2012 -240\n",
      "3        66981  4b4606f2f964a520751426e3  Tue Apr 03 18:00:08 +0000 2012 -300\n",
      "4        21010  4c2b4e8a9a559c74832f0de2  Tue Apr 03 18:00:09 +0000 2012  240\n",
      "...        ...                       ...                             ...  ...\n",
      "599996  198520  4f5adf87e4b0b28dd3693700  Wed Apr 11 06:15:19 +0000 2012 -300\n",
      "599997  150337  4e6d33831495ab99db100b3d  Wed Apr 11 06:15:19 +0000 2012  180\n",
      "599998   14520  4b3cd805f964a520218825e3  Wed Apr 11 06:15:20 +0000 2012 -240\n",
      "599999    4520  4d590a4256f2b60c8b57742f  Wed Apr 11 06:15:20 +0000 2012 -240\n",
      "600000   18580  4e11086662e1d997a69caaf3  Wed Apr 11 06:15:21 +0000 2012  480\n",
      "\n",
      "[600001 rows x 4 columns]\n",
      "   UserId                   VenueId                            Time  \\\n",
      "0  221021  4a85b1b3f964a520eefe1fe3  Tue Apr 03 18:00:08 +0000 2012   \n",
      "\n",
      "   Longitude  Dimension     Category      City CountryCode  \n",
      "0  40.748939  -73.99228  Coffee Shop  New York          US  \n",
      "   UserId                   VenueId                            Time  \\\n",
      "0  221021  4a85b1b3f964a520eefe1fe3  Tue Apr 03 18:00:08 +0000 2012   \n",
      "1   39350  49bbd6c0f964a520f4531fe3  Tue Apr 03 18:00:09 +0000 2012   \n",
      "\n",
      "   Longitude  Dimension             Category      City CountryCode  \n",
      "0  40.748939 -73.992280          Coffee Shop  New York          US  \n",
      "1  40.719726 -74.002472  Arts & Crafts Store  New York          US  \n",
      "   UserId                   VenueId                            Time  \\\n",
      "0  221021  4a85b1b3f964a520eefe1fe3  Tue Apr 03 18:00:08 +0000 2012   \n",
      "1   39350  49bbd6c0f964a520f4531fe3  Tue Apr 03 18:00:09 +0000 2012   \n",
      "2   32655  4a43c0aef964a520c6a61fe3  Tue Apr 03 18:00:25 +0000 2012   \n",
      "\n",
      "   Longitude  Dimension             Category      City CountryCode  \n",
      "0  40.748939 -73.992280          Coffee Shop  New York          US  \n",
      "1  40.719726 -74.002472  Arts & Crafts Store  New York          US  \n",
      "2  40.606800 -74.044170               Bridge  New York          US  \n"
     ]
    }
   ],
   "source": [
    "for num in range(1,57):\n",
    "    data = pd.read_table('./Foursq_fileParts/dataset_TIST2015_Checkins_%d.txt'%(num),sep='\\t',header=None) \n",
    "    #print(type(data))\n",
    "    print(data)\n",
    "    for index, row in data.iterrows(): \n",
    "        #print(row[1])\n",
    "        #a =['3fd66200f964a52000e71ee3']\n",
    "        b = data_poi[data_poi[0].isin([row[1]])]\n",
    "        latitude = b[1]\n",
    "        longitude = b[2]   \n",
    "        #通过经纬坐标查询城市\n",
    "        key = 'GjG3XAdmywz7CyETWqHwIuEC6ZExY6QT'\n",
    "        r = requests.get(url='http://api.map.baidu.com/geocoder/v2/', params={\n",
    "        'location':'%.6f m,%.6f m'%(latitude,longitude),'ak':key,'output':'json'})\n",
    "        result = r.json()\n",
    "        #print(result)\n",
    "        #province = result['result']['addressComponent']['province']\n",
    "        #Singapore 用的是country\n",
    "        city = result['result']['addressComponent']['city']\n",
    "        #city = result['result']['addressComponent']['country']\n",
    "        #print(city)\n",
    "        if city == Retrive_city:\n",
    "            #print(row[0],row[1],row[2],b[1],b[2],b[3],city,b[4])\n",
    "            cat = ''.join(b[3].values)\n",
    "            country = ''.join(b[4].values)\n",
    "            city_checkin_table = city_checkin_table.append([{'UserId':row[0],'VenueId':row[1],'Time':row[2],'Longitude':float(b[1].values),'Dimension':float(b[2].values),'Category':cat,'City':city,'CountryCode':country}], ignore_index=True)                                          \n",
    "            print(city_checkin_table)"
   ]
  },
  {
   "cell_type": "code",
   "execution_count": null,
   "metadata": {},
   "outputs": [],
   "source": [
    "city_checkin_table.to_csv(\"%s.csv\"%(Retrive_city),index=False,sep=',')"
   ]
  },
  {
   "cell_type": "code",
   "execution_count": null,
   "metadata": {},
   "outputs": [],
   "source": [
    "print('Successful！')"
   ]
  },
  {
   "cell_type": "code",
   "execution_count": null,
   "metadata": {},
   "outputs": [],
   "source": []
  }
 ],
 "metadata": {
  "kernelspec": {
   "display_name": "Python 3",
   "language": "python",
   "name": "python3"
  },
  "language_info": {
   "codemirror_mode": {
    "name": "ipython",
    "version": 3
   },
   "file_extension": ".py",
   "mimetype": "text/x-python",
   "name": "python",
   "nbconvert_exporter": "python",
   "pygments_lexer": "ipython3",
   "version": "3.7.6"
  }
 },
 "nbformat": 4,
 "nbformat_minor": 4
}
