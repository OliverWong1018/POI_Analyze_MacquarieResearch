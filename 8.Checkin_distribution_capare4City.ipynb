{
 "cells": [
  {
   "cell_type": "code",
   "execution_count": null,
   "metadata": {},
   "outputs": [],
   "source": [
    "import pandas as pd"
   ]
  },
  {
   "cell_type": "code",
   "execution_count": null,
   "metadata": {},
   "outputs": [],
   "source": [
    "checkin_phoenix = pd.read_csv('../dataset/Phoenix_c2c_count.csv', encoding='ISO-8859-1')\n",
    "checkin_calgary = pd.read_csv('../dataset/Calgary_c2c_count.csv', encoding='ISO-8859-1')\n",
    "checkin_newyork = pd.read_csv('../dataset/NewYork_c2c_count.csv', encoding='ISO-8859-1')\n",
    "checkin_singapore= pd.read_csv('../dataset/Singapore_c2c_count.csv', encoding='ISO-8859-1')\n",
    "print(checkin_phoenix.shape)\n",
    "print(checkin_calgary.shape)\n",
    "print(checkin_newyork.shape)\n",
    "print(checkin_singapore.shape)"
   ]
  },
  {
   "cell_type": "code",
   "execution_count": null,
   "metadata": {},
   "outputs": [],
   "source": [
    "checkin_singapore"
   ]
  },
  {
   "cell_type": "code",
   "execution_count": null,
   "metadata": {},
   "outputs": [],
   "source": [
    "sum_phoenix = pd.to_numeric(checkin_phoenix.iloc[:,:].sum(axis=1), errors='ignore')\n",
    "sum_calgary = pd.to_numeric(checkin_calgary.iloc[:,:].sum(axis=1), errors='ignore')\n",
    "sum_newyork = pd.to_numeric(checkin_newyork.iloc[:,:].sum(axis=1), errors='ignore')\n",
    "sum_singapore = pd.to_numeric(checkin_singapore.iloc[:,:].sum(axis=1), errors='ignore')"
   ]
  },
  {
   "cell_type": "code",
   "execution_count": null,
   "metadata": {},
   "outputs": [],
   "source": [
    "checkin_phoenix = checkin_phoenix.div(sum_phoenix[0])\n",
    "checkin_calgary = checkin_calgary.div(sum_calgary[0])\n",
    "checkin_newyork = checkin_newyork.div(sum_newyork[0])\n",
    "checkin_singapore = checkin_singapore.div(sum_singapore[0])\n",
    "checkin_singapore"
   ]
  },
  {
   "cell_type": "code",
   "execution_count": null,
   "metadata": {},
   "outputs": [],
   "source": [
    "checkin_phoenix = checkin_phoenix.sort_values(axis =1,by = [0],ascending = False)\n",
    "checkin_calgary = checkin_calgary.sort_values(axis =1,by = [0],ascending = False)\n",
    "checkin_newyork = checkin_newyork.sort_values(axis =1,by = [0],ascending = False)\n",
    "checkin_singapore = checkin_singapore.sort_values(axis =1,by = [0],ascending = False)\n",
    "checkin_singapore"
   ]
  },
  {
   "cell_type": "code",
   "execution_count": null,
   "metadata": {},
   "outputs": [],
   "source": [
    "checkin_phoenix = checkin_phoenix.iloc[:,:10]\n",
    "checkin_calgary = checkin_calgary.iloc[:,:10]\n",
    "checkin_newyork = checkin_newyork.iloc[:,:10]\n",
    "checkin_singapore = checkin_singapore.iloc[:,:10]\n",
    "checkin_singapore"
   ]
  },
  {
   "cell_type": "code",
   "execution_count": null,
   "metadata": {},
   "outputs": [],
   "source": [
    "data= pd.DataFrame()\n",
    "data = data.append(checkin_phoenix,ignore_index= True)\n",
    "data = data.append(checkin_calgary,ignore_index= True)\n",
    "data = data.append(checkin_newyork,ignore_index= True)\n",
    "data = data.append(checkin_singapore,ignore_index= True)\n",
    "data=data.fillna(0)\n",
    "data.astype(int)\n",
    "data.index = pd.Series(['Phoenix', 'Calgary','NewYork','Singapore'])\n",
    "data.to_csv(\"checkin_Distribution_Capare4City.csv\",index=False,sep=',')\n",
    "data"
   ]
  },
  {
   "cell_type": "code",
   "execution_count": null,
   "metadata": {},
   "outputs": [],
   "source": [
    "data = data.stack().unstack(0)\n",
    "data"
   ]
  },
  {
   "cell_type": "code",
   "execution_count": null,
   "metadata": {},
   "outputs": [],
   "source": [
    "import matplotlib.pyplot as plt\n",
    "plt.rcParams['figure.figsize'] = (40, 20)   #调整图片大小\n",
    "\n",
    "import seaborn as sns\n",
    "from matplotlib.font_manager import FontProperties   #显示中文，并指定字体\n",
    "myfont=FontProperties(fname=r'C:/Windows/Fonts/simhei.ttf',size=14)\n",
    "sns.set(font=myfont.get_name())\n",
    "plt.rcParams['axes.unicode_minus']=False      #显示负号\n",
    "\n",
    "sns.set_palette(sns.color_palette('bright'))  #设置调色板\n",
    "#pal_style = ['deep', 'muted', 'pastel', 'bright', 'dark','colorblind']\n",
    "\n",
    "data.plot.bar(stacked=True, alpha=0.5)      #绘制堆积柱状图\n",
    "\n",
    "plt.xticks(fontsize=60, rotation=270)    #设置x和y轴刻度值的字体大小;rotation规定水平排列刻度文字。\n",
    "plt.yticks(fontsize=60)    #设置y轴刻度值的字体大小\n",
    "\n",
    "plt.legend(fontsize=60)    #设置legend刻度值的字体大小\n",
    "\n",
    "#plt.yticks(np.arange(0, 251, 50)) #设置y轴标签\n",
    "plt.show()"
   ]
  },
  {
   "cell_type": "code",
   "execution_count": null,
   "metadata": {},
   "outputs": [],
   "source": []
  },
  {
   "cell_type": "code",
   "execution_count": null,
   "metadata": {},
   "outputs": [],
   "source": []
  },
  {
   "cell_type": "code",
   "execution_count": null,
   "metadata": {},
   "outputs": [],
   "source": []
  }
 ],
 "metadata": {
  "kernelspec": {
   "display_name": "Python 3",
   "language": "python",
   "name": "python3"
  },
  "language_info": {
   "codemirror_mode": {
    "name": "ipython",
    "version": 3
   },
   "file_extension": ".py",
   "mimetype": "text/x-python",
   "name": "python",
   "nbconvert_exporter": "python",
   "pygments_lexer": "ipython3",
   "version": "3.7.6"
  }
 },
 "nbformat": 4,
 "nbformat_minor": 4
}
