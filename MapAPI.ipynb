{
 "cells": [
  {
   "cell_type": "code",
   "execution_count": 2,
   "metadata": {},
   "outputs": [],
   "source": [
    "import requests\n",
    "import json"
   ]
  },
  {
   "cell_type": "code",
   "execution_count": 6,
   "metadata": {},
   "outputs": [
    {
     "name": "stdout",
     "output_type": "stream",
     "text": [
      "Istanbul\n"
     ]
    }
   ],
   "source": [
    "latitude=41.029717\n",
    "\n",
    "\n",
    "longitude=28.97442\n",
    "\n",
    "\n",
    "#通过经纬坐标查询城市\n",
    "key = 'GjG3XAdmywz7CyETWqHwIuEC6ZExY6QT'\n",
    "r = requests.get(url='http://api.map.baidu.com/geocoder/v2/', params={\n",
    "'location':'%.6f m,%.6f m'%(latitude,longitude),'ak':key,'output':'json'})\n",
    "result = r.json()\n",
    "#print(result)\n",
    "#province = result['result']['addressComponent']['province']\n",
    "#Singapore 用的是country\n",
    "city = result['result']['addressComponent']['city']\n",
    "print(city) \n",
    "      "
   ]
  },
  {
   "cell_type": "code",
   "execution_count": null,
   "metadata": {},
   "outputs": [],
   "source": []
  }
 ],
 "metadata": {
  "kernelspec": {
   "display_name": "Python 3",
   "language": "python",
   "name": "python3"
  },
  "language_info": {
   "codemirror_mode": {
    "name": "ipython",
    "version": 3
   },
   "file_extension": ".py",
   "mimetype": "text/x-python",
   "name": "python",
   "nbconvert_exporter": "python",
   "pygments_lexer": "ipython3",
   "version": "3.7.6"
  }
 },
 "nbformat": 4,
 "nbformat_minor": 4
}
